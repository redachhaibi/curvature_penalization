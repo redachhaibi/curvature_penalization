{
 "cells": [
  {
   "cell_type": "markdown",
   "metadata": {},
   "source": [
    "This notebook provides the octopuses for the final state of geodesics of pre-executed Riemannian K-means. The plots are used in Section 5.3 of my thesis."
   ]
  },
  {
   "cell_type": "markdown",
   "metadata": {},
   "source": [
    "# Octopus plotting"
   ]
  },
  {
   "cell_type": "code",
   "execution_count": null,
   "metadata": {},
   "outputs": [],
   "source": [
    "import torch, ricci_regularization, json, os\n",
    "import cv2 #to make videos"
   ]
  },
  {
   "cell_type": "code",
   "execution_count": null,
   "metadata": {},
   "outputs": [],
   "source": [
    "setting_numbers = [1] #[4]\n",
    "experiment_numbers = [1] #[2,3]\n",
    "k_means_setup_numbers = [10]#[0,1,2,3,4,5,6,7,8,9]\n",
    "for setting_number in setting_numbers:\n",
    "    for experiment_number in experiment_numbers:\n",
    "        for k_means_setup_number in k_means_setup_numbers:\n",
    "            pretrained_AE_setting_name = f'MNIST_Setting_{setting_number}_exp{experiment_number}'\n",
    "            Path_clustering_setup = f\"../../experiments/{pretrained_AE_setting_name}/K_means_setup_{k_means_setup_number}\"\n",
    "            with open(Path_clustering_setup + f\"/params.json\", \"r\") as f_Riemannian:\n",
    "                Riemannian_k_means_params = json.load(f_Riemannian)\n",
    "            geodesic_curve = torch.load(Path_clustering_setup+\"/geodesic_curve.pt\")\n",
    "            ricci_regularization.RiemannianKmeansTools.plot_octopus(geodesic_curve,\n",
    "                memberships=torch.tensor(Riemannian_k_means_params[\"Riemannian_k_means_labels\"]),\n",
    "                ground_truth_labels=Riemannian_k_means_params[\"ground_truth_labels\"],\n",
    "                saving_folder=Path_clustering_setup, suffix=0, show_geodesics_in_original_local_charts=False,\n",
    "                show_only_geodesics_to_nearest_centroids = False, periodicity_mode=True)"
   ]
  },
  {
   "cell_type": "markdown",
   "metadata": {},
   "source": [
    "# Video"
   ]
  },
  {
   "cell_type": "code",
   "execution_count": null,
   "metadata": {},
   "outputs": [],
   "source": [
    "# Specify the directory containing PNGs and the output video name\n",
    "images_folder = \"../../plots/Kmeans\"\n",
    "output_video = \"../../plots/Kmeans_video.avi\"\n",
    "\n",
    "# Set video parameters\n",
    "frame_rate = 30\n",
    "images = sorted([img for img in os.listdir(images_folder) if img.endswith(\".png\")])\n",
    "if not images:\n",
    "    raise ValueError(\"No PNG images found in the specified directory.\")\n"
   ]
  },
  {
   "cell_type": "code",
   "execution_count": null,
   "metadata": {},
   "outputs": [],
   "source": [
    "\n",
    "# Read the first image to get dimensions\n",
    "first_image_path = os.path.join(images_folder, images[0])\n",
    "frame = cv2.imread(first_image_path)\n",
    "height, width, layers = frame.shape\n",
    "\n",
    "# Define the codec and create VideoWriter object\n",
    "fourcc = cv2.VideoWriter_fourcc(*'XVID')  # You can use other codecs like 'mp4v'\n",
    "video = cv2.VideoWriter(output_video, fourcc, frame_rate, (width, height))\n",
    "\n",
    "for image in images:\n",
    "    img_path = os.path.join(images_folder, image)\n",
    "    frame = cv2.imread(img_path)\n",
    "    video.write(frame)\n",
    "\n",
    "video.release()\n",
    "cv2.destroyAllWindows()\n",
    "print(f\"Video saved as {output_video}\")\n"
   ]
  },
  {
   "cell_type": "markdown",
   "metadata": {},
   "source": [
    "# GIF"
   ]
  },
  {
   "cell_type": "code",
   "execution_count": null,
   "metadata": {},
   "outputs": [],
   "source": [
    "import os\n",
    "import imageio\n",
    "\n",
    "# Full path to save GIF\n",
    "output_gif_path = \"../../plots/Kmeans_gif.gif\"\n",
    "frame_duration = 0.05  # Seconds per frame (e.g., 0.1s = 10 fps)\n",
    "\n",
    "# Get and sort image file names\n",
    "images = sorted(os.listdir(images_folder))\n",
    "\n",
    "# Read images\n",
    "frames = []\n",
    "for image_name in images:\n",
    "    img_path = os.path.join(images_folder, image_name)\n",
    "    frame = imageio.imread(img_path)\n",
    "    frames.append(frame)\n",
    "\n",
    "# Save as GIF\n",
    "imageio.mimsave(output_gif_path, frames, duration=frame_duration)\n",
    "print(f\"GIF saved as {output_gif_path}\")\n"
   ]
  }
 ],
 "metadata": {
  "kernelspec": {
   "display_name": ".venv_ricci2024",
   "language": "python",
   "name": "python3"
  },
  "language_info": {
   "codemirror_mode": {
    "name": "ipython",
    "version": 3
   },
   "file_extension": ".py",
   "mimetype": "text/x-python",
   "name": "python",
   "nbconvert_exporter": "python",
   "pygments_lexer": "ipython3",
   "version": "3.10.12"
  }
 },
 "nbformat": 4,
 "nbformat_minor": 2
}
